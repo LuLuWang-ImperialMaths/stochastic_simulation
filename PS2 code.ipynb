{
 "cells": [
  {
   "cell_type": "code",
   "execution_count": 1,
   "metadata": {},
   "outputs": [],
   "source": [
    "import numpy as np\n",
    "import numpy.random as random\n",
    "import random as rn\n",
    "import matplotlib.pyplot as plt\n",
    "import seaborn as sns"
   ]
  },
  {
   "cell_type": "markdown",
   "metadata": {},
   "source": [
    "### Ex2.1 truncated mormal"
   ]
  },
  {
   "cell_type": "code",
   "execution_count": 2,
   "metadata": {},
   "outputs": [
    {
     "data": {
      "image/png": "[encoded data removed]",
      "text/plain": [
       "<Figure size 432x288 with 1 Axes>"
      ]
     },
     "metadata": {
      "needs_background": "light"
     },
     "output_type": "display_data"
    }
   ],
   "source": [
    "n = 10000\n",
    "x = random.normal(0, 1, n)\n",
    "s = np.array([])\n",
    "\n",
    "for i in x:\n",
    "    if -0.8 <= i <= 0.8:\n",
    "        s = np.append(s, i)\n",
    "\n",
    "plt.hist(s, bins=100, density=True)\n",
    "plt.show()"
   ]
  },
  {
   "cell_type": "markdown",
   "metadata": {},
   "source": [
    "### not enough samples: less than n"
   ]
  },
  {
   "cell_type": "markdown",
   "metadata": {},
   "source": [
    "### Ex2.1 sol"
   ]
  },
  {
   "cell_type": "code",
   "execution_count": null,
   "metadata": {},
   "outputs": [],
   "source": [
    "n = 100000\n",
    "\n",
    "a = 0.8\n",
    "x_accepted = np.array([])\n",
    "\n",
    "while len( x_accepted ) < n:\n",
    "    x = np.random.normal(0, 1)\n",
    "    if -a <= x <= a:\n",
    "        # ensure that there are n samples\n",
    "        x_accepted = np.append(x_accepted , x)\n",
    "\n",
    "plt.hist(x_accepted , bins=100 , density=True)\n",
    "plt.show ()"
   ]
  },
  {
   "cell_type": "markdown",
   "metadata": {},
   "source": [
    "### Ex2.2"
   ]
  },
  {
   "cell_type": "code",
   "execution_count": null,
   "metadata": {},
   "outputs": [],
   "source": [
    "n = 10000\n",
    "a = 0.5\n",
    "b = 0.5\n",
    "sd = 0.15\n",
    "\n",
    "def mu(x):\n",
    "    return a*np.cos(x) + b\n",
    "\n",
    "x = np.random.uniform(-10, 10, n)\n",
    "\n",
    "# sol: usage of properties of numpy array\n",
    "y = a * np.cos(x) + b + sd*random.normal(0, 1, n)\n",
    "\n",
    "# originalcode, which also fine\n",
    "y_p = [np.random.normal(mu(i), sd**2, 1) for i in x]\n",
    "\n",
    "# scatter plot the samples\n",
    "fig, ax = plt.subplots(2, 1, figsize=(30, 12))\n",
    "ax[0].scatter(x, y, s=4, c=\"pink\")\n",
    "ax[1].hist(y, bins=100, density=True)\n",
    "# plot y marginally\n",
    "plt.show()"
   ]
  },
  {
   "cell_type": "markdown",
   "metadata": {},
   "source": [
    "### Ex2.3"
   ]
  },
  {
   "cell_type": "code",
   "execution_count": null,
   "metadata": {},
   "outputs": [],
   "source": [
    "mu = [-2, -1, 0, 1, 2]\n",
    "w = [0.1, 0.2, 0.3, 0.2, 0.2]\n",
    "sd = [0.5, 0.1, 0.5, 0.2, 0.5]\n",
    "\n",
    "n = 10000\n",
    "sp_list = []\n",
    "pool = [0, 1, 2, 3, 4]\n",
    "\n",
    "# Box-Muller\n",
    "x1 = np.random.uniform(0, 2*np.pi, 1)\n",
    "x2 = np.random.uniform(0, 1, 1)\n",
    "# exponential inversion\n",
    "x2t = -2*np.log(1-x2)\n",
    "# a sample from N(0, 1)\n",
    "y1 = x1**0.5*np.cos(x2t)\n",
    "\n",
    "def weighted_sp(n):\n",
    "    for i in range(n):\n",
    "        # return an index on a given weight\n",
    "        inx = rn.choices(pool, weights=w)\n",
    "\n",
    "        # a sample from N(mu_k, sigma_sqr_k) with weights\n",
    "        sp = y1*sd[inx[0]] + mu[inx[0]]*w[inx[0]]\n",
    "        sp_list.append(sp)\n",
    "\n",
    "    return sp_list\n",
    "\n",
    "# if truncated at [mu - 0.1, mu + 0.1]\n",
    "# add a 'if' condition after sp before adding it to sp_list"
   ]
  },
  {
   "cell_type": "code",
   "execution_count": null,
   "metadata": {},
   "outputs": [],
   "source": [
    "sample = weighted_sp(10000)\n",
    "plt.hist(sample, bins=122, density=True)"
   ]
  },
  {
   "cell_type": "markdown",
   "metadata": {},
   "source": [
    "## Ex 2.3 sol"
   ]
  },
  {
   "cell_type": "code",
   "execution_count": null,
   "metadata": {},
   "outputs": [],
   "source": [
    "mu = [-2, -1, 0, 1, 2]\n",
    "w = [0.1, 0.2, 0.3, 0.2, 0.2]\n",
    "sd = [0.5, 0.1, 0.5, 0.2, 0.5]\n",
    "pool = [0, 1, 2, 3, 4]\n",
    "\n",
    "w_sample = np.zeros(n)\n",
    "n = 100000\n",
    "w_sum = np.cumsum(w)\n",
    "\n",
    "# sample 1 observ\n",
    "def discrete(w, w_sum):\n",
    "    u = np.random.uniform(0, 1, 1)\n",
    "    # sample the k.th weight from p_k \n",
    "    for i in range(len(w)):\n",
    "        if w_sum[i] > u:\n",
    "            sample = pool[i]\n",
    "            break\n",
    "    return sample\n",
    "\n",
    "# sample n obs\n",
    "for i in range(n):\n",
    "    # already defined w n w_sum in this func, so no need to be in sample\n",
    "    s = discrete(w, w_sum)\n",
    "    w_sample[i] = np.random.normal(mu[s], sd[s], 1)\n",
    "\n",
    "# plotting\n",
    "plt.hist(w_sample, bins=80, density=True, rwidth=0.8, color='r', alpha=0.5)\n",
    "plt.show()"
   ]
  },
  {
   "cell_type": "markdown",
   "metadata": {},
   "source": [
    "# "
   ]
  },
  {
   "cell_type": "code",
   "execution_count": null,
   "metadata": {},
   "outputs": [],
   "source": []
  }
 ],
 "metadata": {
  "@webio": {
   "lastCommId": null,
   "lastKernelId": null
  },
  "kernelspec": {
   "display_name": "Python 3",
   "language": "python",
   "name": "python3"
  },
  "language_info": {
   "codemirror_mode": {
    "name": "ipython",
    "version": 3
   },
   "file_extension": ".py",
   "mimetype": "text/x-python",
   "name": "python",
   "nbconvert_exporter": "python",
   "pygments_lexer": "ipython3",
   "version": "3.8.3"
  }
 },
 "nbformat": 4,
 "nbformat_minor": 4
}
